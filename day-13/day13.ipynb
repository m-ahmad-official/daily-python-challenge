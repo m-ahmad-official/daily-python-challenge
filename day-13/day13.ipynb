{
 "cells": [
  {
   "cell_type": "code",
   "execution_count": 7,
   "metadata": {},
   "outputs": [
    {
     "name": "stdout",
     "output_type": "stream",
     "text": [
      "Enter a message: Hello World!\n",
      "Encrypted: Khoor Zruog!\n",
      "Decrypted: Hello World!\n"
     ]
    }
   ],
   "source": [
    "def caesar_cipher(text: str, shift: int) -> str:\n",
    "    result = \"\"\n",
    "    for char in text:\n",
    "        if char.isalpha():\n",
    "            shift_base = ord('A') if char.isupper() else ord('a')\n",
    "            result += chr((ord(char) - shift_base + shift) % 26 + shift_base)\n",
    "        else:\n",
    "            result += char  # Keep non-alphabet characters unchanged\n",
    "    return result\n",
    "\n",
    "def encrypt(text: str) -> str:\n",
    "    return caesar_cipher(text, 3)\n",
    "\n",
    "def decrypt(text: str) -> str:\n",
    "    return caesar_cipher(text, -3)\n",
    "\n",
    "# Taking input from the user\n",
    "message = input(\"Enter a message: \")\n",
    "print(f\"Enter a message: {message}\")\n",
    "\n",
    "# Encrypting the message\n",
    "encrypted_msg = encrypt(message)\n",
    "print(f\"Encrypted: {encrypted_msg}\")\n",
    "\n",
    "# Decrypting the message\n",
    "decrypted_msg = decrypt(encrypted_msg)\n",
    "print(f\"Decrypted: {decrypted_msg}\")"
   ]
  }
 ],
 "metadata": {
  "kernelspec": {
   "display_name": "Python 3",
   "language": "python",
   "name": "python3"
  },
  "language_info": {
   "codemirror_mode": {
    "name": "ipython",
    "version": 3
   },
   "file_extension": ".py",
   "mimetype": "text/x-python",
   "name": "python",
   "nbconvert_exporter": "python",
   "pygments_lexer": "ipython3",
   "version": "3.13.2"
  }
 },
 "nbformat": 4,
 "nbformat_minor": 2
}
