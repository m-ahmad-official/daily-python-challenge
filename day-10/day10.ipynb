{
 "cells": [
  {
   "cell_type": "code",
   "execution_count": 20,
   "metadata": {},
   "outputs": [
    {
     "name": "stdout",
     "output_type": "stream",
     "text": [
      "earTh123\n",
      "123hEart\n",
      "✅ Yes, it's an anagram!\n"
     ]
    }
   ],
   "source": [
    "def is_anagram(word1, word2):\n",
    "    # Convert both words to lowercase\n",
    "    word1 = word1.lower()\n",
    "    word2 = word2.lower()\n",
    "\n",
    "    # Remove spaces and sort the letters\n",
    "    word1 = sorted(word1.replace(\" \", \"\"))\n",
    "    word2 = sorted(word2.replace(\" \", \"\"))\n",
    "\n",
    "    # Compare the sorted words\n",
    "    return word1 == word2\n",
    "\n",
    "# Get input from user\n",
    "word1 = input(\"Enter first word: \")\n",
    "word2 = input(\"Enter second word: \")\n",
    "print(word1)\n",
    "print(word2)\n",
    "\n",
    "# Check if the words are anagrams\n",
    "if is_anagram(word1, word2):\n",
    "    print(\"✅ Yes, it's an anagram!\")\n",
    "else:\n",
    "    print(\"❌ No, it's not an anagram!\")\n"
   ]
  }
 ],
 "metadata": {
  "kernelspec": {
   "display_name": "Python 3",
   "language": "python",
   "name": "python3"
  },
  "language_info": {
   "codemirror_mode": {
    "name": "ipython",
    "version": 3
   },
   "file_extension": ".py",
   "mimetype": "text/x-python",
   "name": "python",
   "nbconvert_exporter": "python",
   "pygments_lexer": "ipython3",
   "version": "3.13.2"
  }
 },
 "nbformat": 4,
 "nbformat_minor": 2
}
