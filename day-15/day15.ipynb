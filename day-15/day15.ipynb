{
 "cells": [
  {
   "cell_type": "code",
   "execution_count": 1,
   "metadata": {},
   "outputs": [
    {
     "name": "stdout",
     "output_type": "stream",
     "text": [
      "Enter the desired password length: 12\n",
      "Generated Password: #-}9qdg;/I2Y\n"
     ]
    }
   ],
   "source": [
    "import random\n",
    "import string\n",
    "\n",
    "def generate_password(length: int) -> str:\n",
    "    if length < 8:\n",
    "        return \"Password length must be at least 8 for security!\"\n",
    "\n",
    "    # Define character pools\n",
    "    uppercase = string.ascii_uppercase  # A-Z\n",
    "    lowercase = string.ascii_lowercase  # a-z\n",
    "    digits = string.digits              # 0-9\n",
    "    special_chars = string.punctuation  # Special characters\n",
    "\n",
    "    # Ensure at least one character from each category\n",
    "    password = [\n",
    "        random.choice(uppercase),\n",
    "        random.choice(lowercase),\n",
    "        random.choice(digits),\n",
    "        random.choice(special_chars)\n",
    "    ]\n",
    "\n",
    "    # Fill the remaining characters randomly\n",
    "    all_chars = uppercase + lowercase + digits + special_chars\n",
    "    password += random.choices(all_chars, k=length - 4)\n",
    "\n",
    "    # Shuffle to make it random\n",
    "    random.shuffle(password)\n",
    "\n",
    "    return \"\".join(password)\n",
    "\n",
    "# User input for password length\n",
    "length = int(input(\"Enter the desired password length: \"))\n",
    "print(f\"Enter the desired password length: {length}\")\n",
    "print(f\"Generated Password: {generate_password(length)}\")\n"
   ]
  }
 ],
 "metadata": {
  "kernelspec": {
   "display_name": "Python 3",
   "language": "python",
   "name": "python3"
  },
  "language_info": {
   "codemirror_mode": {
    "name": "ipython",
    "version": 3
   },
   "file_extension": ".py",
   "mimetype": "text/x-python",
   "name": "python",
   "nbconvert_exporter": "python",
   "pygments_lexer": "ipython3",
   "version": "3.13.2"
  }
 },
 "nbformat": 4,
 "nbformat_minor": 2
}
