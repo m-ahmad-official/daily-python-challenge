{
 "cells": [
  {
   "cell_type": "code",
   "execution_count": 5,
   "metadata": {},
   "outputs": [
    {
     "name": "stdout",
     "output_type": "stream",
     "text": [
      "Enter text or URL to generate QR code: https://www.instagram.com/m.ahmad.official/\n",
      "✅ QR Code saved as qrcode.png\n"
     ]
    }
   ],
   "source": [
    "import qrcode\n",
    "\n",
    "def generate_qr_code(data: str, filename: str = \"qrcode.png\"):\n",
    "    qr = qrcode.QRCode(\n",
    "        version=1,  # QR code size (1 = small, increases with higher values)\n",
    "        error_correction=qrcode.constants.ERROR_CORRECT_L,  # Low error correction\n",
    "        box_size=10,  # Size of each QR module\n",
    "        border=4,  # Border size\n",
    "    )\n",
    "    qr.add_data(data)\n",
    "    qr.make(fit=True)\n",
    "\n",
    "    img = qr.make_image(fill=\"black\", back_color=\"white\")\n",
    "    img.save(filename)\n",
    "    print(f\"✅ QR Code saved as {filename}\")\n",
    "\n",
    "# User input for QR Code\n",
    "text = input(\"Enter text or URL to generate QR code: \")\n",
    "print(f\"Enter text or URL to generate QR code: {text}\")\n",
    "generate_qr_code(text)"
   ]
  }
 ],
 "metadata": {
  "kernelspec": {
   "display_name": "Python 3",
   "language": "python",
   "name": "python3"
  },
  "language_info": {
   "codemirror_mode": {
    "name": "ipython",
    "version": 3
   },
   "file_extension": ".py",
   "mimetype": "text/x-python",
   "name": "python",
   "nbconvert_exporter": "python",
   "pygments_lexer": "ipython3",
   "version": "3.13.2"
  }
 },
 "nbformat": 4,
 "nbformat_minor": 2
}
