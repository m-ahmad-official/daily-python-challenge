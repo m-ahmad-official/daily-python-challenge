{
 "cells": [
  {
   "cell_type": "code",
   "execution_count": 1,
   "metadata": {},
   "outputs": [
    {
     "name": "stdout",
     "output_type": "stream",
     "text": [
      "🎯 Welcome to the Number Guessing Game!\n",
      "Guess the number between 1 and 100.\n",
      "📈 Too high! Try again.\n",
      "📉 Too low! Try again.\n",
      "📈 Too high! Try again.\n",
      "📉 Too low! Try again.\n",
      "📉 Too low! Try again.\n",
      "📉 Too low! Try again.\n",
      "🎉 Congratulations! You guessed it right in 7 attempts.\n"
     ]
    }
   ],
   "source": [
    "import random\n",
    "\n",
    "def number_guessing_game():\n",
    "    secret_number = random.randint(1, 100)\n",
    "    attempts = 0\n",
    "\n",
    "    print(\"🎯 Welcome to the Number Guessing Game!\")\n",
    "    print(\"Guess the number between 1 and 100.\")\n",
    "\n",
    "    while True:\n",
    "        try:\n",
    "            guess = int(input(\"Enter your guess: \"))\n",
    "            attempts += 1\n",
    "\n",
    "            if guess < 1 or guess > 100:\n",
    "                print(\"🚨 Please enter a number between 1 and 100.\")\n",
    "            elif guess < secret_number:\n",
    "                print(\"📉 Too low! Try again.\")\n",
    "            elif guess > secret_number:\n",
    "                print(\"📈 Too high! Try again.\")\n",
    "            else:\n",
    "                print(f\"🎉 Congratulations! You guessed it right in {attempts} attempts.\")\n",
    "                break\n",
    "        except ValueError:\n",
    "            print(\"❌ Invalid input! Please enter a valid number.\")\n",
    "\n",
    "number_guessing_game()\n"
   ]
  }
 ],
 "metadata": {
  "kernelspec": {
   "display_name": "Python 3",
   "language": "python",
   "name": "python3"
  },
  "language_info": {
   "codemirror_mode": {
    "name": "ipython",
    "version": 3
   },
   "file_extension": ".py",
   "mimetype": "text/x-python",
   "name": "python",
   "nbconvert_exporter": "python",
   "pygments_lexer": "ipython3",
   "version": "3.13.2"
  }
 },
 "nbformat": 4,
 "nbformat_minor": 2
}
