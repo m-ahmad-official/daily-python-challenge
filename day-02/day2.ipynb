{
 "cells": [
  {
   "cell_type": "markdown",
   "metadata": {},
   "source": [
    "📢 Day 2 – Daily Python Challenge 🐍\n",
    "\n",
    "🚀 Challenge: Aisa Python program likhna hai jo user se ek sentence le aur usme jitne words hain, count kare! 🔢💡  \n",
    "\n",
    "🔥 Example:  \n",
    "📌 Input: \"Python is amazing!\"  \n",
    "📌 Output: Total words: 3  \n",
    "\n",
    "💡 Hint: \n",
    "- split() function ka use karke sentence ko words me tod sakte ho.  \n",
    "- len() function se words ki total count nikal sakte ho."
   ]
  },
  {
   "cell_type": "code",
   "execution_count": 83,
   "metadata": {},
   "outputs": [],
   "source": [
    "message = \"Python is great for data science!\""
   ]
  },
  {
   "cell_type": "code",
   "execution_count": 84,
   "metadata": {},
   "outputs": [],
   "source": [
    "words = message.split()"
   ]
  },
  {
   "cell_type": "code",
   "execution_count": 85,
   "metadata": {},
   "outputs": [],
   "source": [
    "words_count = len(words)"
   ]
  },
  {
   "cell_type": "code",
   "execution_count": 86,
   "metadata": {},
   "outputs": [
    {
     "name": "stdout",
     "output_type": "stream",
     "text": [
      "Python is great for data science! \n",
      "Number of words is: 6\n"
     ]
    }
   ],
   "source": [
    "print(f\"{message} \\nNumber of words is: {words_count}\")"
   ]
  },
  {
   "cell_type": "markdown",
   "metadata": {},
   "source": [
    "💡 Bonus Challenge (Optional) 🤩\n",
    "\n",
    "Agar tumhe extra challenge chahiye, to same program ko aise modify karo ke words ko reverse order me print kare! 🔄  \n",
    "\n",
    "📌 Example:  \n",
    "🔹 Input: \"I love Python\"  \n",
    "🔹 Output: \"Python love I"
   ]
  },
  {
   "cell_type": "code",
   "execution_count": 87,
   "metadata": {},
   "outputs": [],
   "source": [
    "reverse_sentence = words.reverse()"
   ]
  },
  {
   "cell_type": "code",
   "execution_count": 88,
   "metadata": {},
   "outputs": [],
   "source": [
    "reverse_sentence = ' '.join(words)"
   ]
  },
  {
   "cell_type": "code",
   "execution_count": 90,
   "metadata": {},
   "outputs": [
    {
     "name": "stdout",
     "output_type": "stream",
     "text": [
      "Reverse sentence is: science! data for great is Python\n"
     ]
    }
   ],
   "source": [
    "print(f\"Reverse sentence is: {reverse_sentence}\")"
   ]
  }
 ],
 "metadata": {
  "kernelspec": {
   "display_name": "Python 3",
   "language": "python",
   "name": "python3"
  },
  "language_info": {
   "codemirror_mode": {
    "name": "ipython",
    "version": 3
   },
   "file_extension": ".py",
   "mimetype": "text/x-python",
   "name": "python",
   "nbconvert_exporter": "python",
   "pygments_lexer": "ipython3",
   "version": "3.13.2"
  }
 },
 "nbformat": 4,
 "nbformat_minor": 2
}
