{
 "cells": [
  {
   "cell_type": "code",
   "execution_count": 35,
   "metadata": {},
   "outputs": [
    {
     "name": "stdout",
     "output_type": "stream",
     "text": [
      "Enter your password: P@ssw0rd123!\n",
      "Password strength: Strong ✅\n"
     ]
    }
   ],
   "source": [
    "def check_password_strength(password):\n",
    "    if len(password) < 6:\n",
    "        return \"Password strength: Weak ❌\"\n",
    "    \n",
    "    has_digit = any(char.isdigit() for char in password)\n",
    "    has_upper = any(char.isupper() for char in password)\n",
    "    has_special = any(char in \"!@#$%^&*()\" for char in password)\n",
    "\n",
    "    if len(password) > 10 and has_digit and has_upper and has_special:\n",
    "        return \"Password strength: Strong ✅\"\n",
    "    elif len(password) >= 6 and has_digit:\n",
    "        return \"Password strength: Medium ⚠️\"\n",
    "    else:\n",
    "        return \"Password strength: Weak ❌\"\n",
    "    \n",
    "password = input(\"Enter your password: \")\n",
    "print(f\"Enter your password: {password}\")\n",
    "print(check_password_strength(password))"
   ]
  }
 ],
 "metadata": {
  "kernelspec": {
   "display_name": "Python 3",
   "language": "python",
   "name": "python3"
  },
  "language_info": {
   "codemirror_mode": {
    "name": "ipython",
    "version": 3
   },
   "file_extension": ".py",
   "mimetype": "text/x-python",
   "name": "python",
   "nbconvert_exporter": "python",
   "pygments_lexer": "ipython3",
   "version": "3.13.2"
  }
 },
 "nbformat": 4,
 "nbformat_minor": 2
}
