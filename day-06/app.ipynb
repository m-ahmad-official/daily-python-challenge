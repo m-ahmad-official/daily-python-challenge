{
 "cells": [
  {
   "cell_type": "code",
   "execution_count": 71,
   "metadata": {},
   "outputs": [
    {
     "name": "stdout",
     "output_type": "stream",
     "text": [
      "Enter an integer: 73\n",
      "Binary: 1001001\n",
      "Output: Palindrome ✅\n"
     ]
    }
   ],
   "source": [
    "def is_palindrome(s):\n",
    "    return s == s[::-1]\n",
    "\n",
    "def check_binary_palindrome():\n",
    "    num = int(input(\"Enter an integer: \"))\n",
    "    print(f\"Enter an integer: {num}\")\n",
    "    binary_representation = bin(num)[2:]  # Convert to binary and remove '0b' prefix\n",
    "    print(f\"Binary: {binary_representation}\")\n",
    "\n",
    "    if is_palindrome(binary_representation):\n",
    "        print(\"Output: Palindrome ✅\")\n",
    "    else:\n",
    "        print(\"Output: Not a Palindrome ❌\")\n",
    "\n",
    "check_binary_palindrome()\n"
   ]
  }
 ],
 "metadata": {
  "kernelspec": {
   "display_name": "Python 3",
   "language": "python",
   "name": "python3"
  },
  "language_info": {
   "codemirror_mode": {
    "name": "ipython",
    "version": 3
   },
   "file_extension": ".py",
   "mimetype": "text/x-python",
   "name": "python",
   "nbconvert_exporter": "python",
   "pygments_lexer": "ipython3",
   "version": "3.13.2"
  }
 },
 "nbformat": 4,
 "nbformat_minor": 2
}
