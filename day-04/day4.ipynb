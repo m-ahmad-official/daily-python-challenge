{
 "cells": [
  {
   "cell_type": "code",
   "execution_count": 1,
   "metadata": {},
   "outputs": [
    {
     "name": "stdout",
     "output_type": "stream",
     "text": [
      "Enter a number: 5143\n",
      "Output: Five Thousand One Hundred And Forty-Three.\n"
     ]
    }
   ],
   "source": [
    "from num2words import num2words\n",
    "\n",
    "def number_to_words(num: int) -> str:\n",
    "    return num2words(num, lang='en').replace(\",\", \"\").title()\n",
    "\n",
    "if __name__ == \"__main__\":\n",
    "    num = int(input(\"Enter a number: \"))\n",
    "    print(f\"Enter a number: {num}\")\n",
    "    print(f\"Output: {number_to_words(num)}.\")\n"
   ]
  }
 ],
 "metadata": {
  "kernelspec": {
   "display_name": "Python 3",
   "language": "python",
   "name": "python3"
  },
  "language_info": {
   "codemirror_mode": {
    "name": "ipython",
    "version": 3
   },
   "file_extension": ".py",
   "mimetype": "text/x-python",
   "name": "python",
   "nbconvert_exporter": "python",
   "pygments_lexer": "ipython3",
   "version": "3.13.2"
  }
 },
 "nbformat": 4,
 "nbformat_minor": 2
}
