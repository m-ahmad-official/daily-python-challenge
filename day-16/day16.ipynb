{
 "cells": [
  {
   "cell_type": "code",
   "execution_count": null,
   "metadata": {},
   "outputs": [
    {
     "name": "stdout",
     "output_type": "stream",
     "text": [
      "Enter your message: Hello, World!\n",
      "Enter shift value: 2\n",
      "🔒 Encrypted: Jgnnq, Yqtnf!\n",
      "🔒 Decrypted: Hello, World!\n"
     ]
    }
   ],
   "source": [
    "def caesar_cipher(text: str, shift: int, encrypt: bool = True) -> str:\n",
    "    result = \"\"\n",
    "    shift = shift if encrypt else -shift  # Reverse shift for decryption\n",
    "\n",
    "    for char in text:\n",
    "        if char.isalpha(): # Only shift alphabetic characters\n",
    "            shift_base = ord('A') if char.isupper() else ord('a')\n",
    "            result += chr((ord(char) - shift_base + shift) % 26 + shift_base)\n",
    "        else:\n",
    "            result += char  # Keep non-alphabet characters unchanged\n",
    "    return result\n",
    "\n",
    "# Taking input from the user\n",
    "message = input(\"Enter your message: \")\n",
    "shift_value = int(input(\"Enter shift value: \"))\n",
    "print(f\"Enter your message: {message}\")\n",
    "print(f\"Enter shift value: {shift_value}\")\n",
    "\n",
    "# Encrypting the message\n",
    "encrypted_msg = caesar_cipher(message, shift_value)\n",
    "print(f\"🔒 Encrypted: {encrypted_msg}\")\n",
    "\n",
    "# Decrypting the message\n",
    "decrypted_msg = caesar_cipher(encrypted_msg, shift_value, encrypt=False)\n",
    "print(f\"🔒 Decrypted: {decrypted_msg}\")"
   ]
  }
 ],
 "metadata": {
  "kernelspec": {
   "display_name": "Python 3",
   "language": "python",
   "name": "python3"
  },
  "language_info": {
   "codemirror_mode": {
    "name": "ipython",
    "version": 3
   },
   "file_extension": ".py",
   "mimetype": "text/x-python",
   "name": "python",
   "nbconvert_exporter": "python",
   "pygments_lexer": "ipython3",
   "version": "3.13.2"
  }
 },
 "nbformat": 4,
 "nbformat_minor": 2
}
